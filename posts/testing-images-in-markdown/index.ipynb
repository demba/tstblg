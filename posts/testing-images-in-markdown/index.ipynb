{
 "cells": [
  {
   "cell_type": "markdown",
   "metadata": {},
   "source": [
    "![Yo](/Demba.jpg)\n"
   ]
  },
  {
   "cell_type": "markdown",
   "metadata": {},
   "source": [
    "<img style=\"float: left\" src=\"/Demba.jpg\"> I am an Assistant Professor of Electrical Engineering and Bioengineering in the Harvard's School of Engineering and Applied Sciences. This is my personal blog. As such, the views expressed here are not held by my employer, Harvard University, its affiliates or my colleagues/department.\n",
    "\n",
    "This blog is a space I reserve for myself to write about things I am passionate about. I am passionate about *many* things. In the age of specialization, some might perceive this a lack of depth/focus. My experience has taught me that some of my best ideas have come from serendipitous cross-pollineations of my various interests. James McBride, a great author, once wrote \"Robbing a character of their full dimension, be it in fiction or non fiction, hurts everyone the world over\". So, in here you might read posts about recent events, cooking, my love of everything audio/radio, tech and social/justice, sigma-algebras, papers I've been reading, life as an assistant professor, data science, and more...\n",
    "\n",
    "I am proud of having set up this blog using Nikola! which allows me, in one place, to include mathematical equations, code, plots generated in Python and more! This makes for such a rich writing/blogging experience. I also blog about data science/academia/signal processing at [Dataholiks](http://dataholiks.com) with my Sourav Dey.\n",
    "\n",
    "I look forward to sharing with you!\n",
    "\n",
    "\n",
    "Demba Ba."
   ]
  }
 ],
 "metadata": {
  "kernelspec": {
   "display_name": "Python 2",
   "language": "python",
   "name": "python2"
  },
  "language_info": {
   "codemirror_mode": {
    "name": "ipython",
    "version": 2
   },
   "file_extension": ".py",
   "mimetype": "text/x-python",
   "name": "python",
   "nbconvert_exporter": "python",
   "pygments_lexer": "ipython2",
   "version": "2.7.6"
  },
  "nikola": {
   "category": "",
   "date": "2015-08-12 12:16:20 UTC-05:00",
   "description": "",
   "link": "",
   "slug": "testing-images-in-markdown",
   "tags": "",
   "title": "Testing images in markdown",
   "type": "text"
  }
 },
 "nbformat": 4,
 "nbformat_minor": 0
}
